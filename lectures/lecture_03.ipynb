{
 "cells": [
  {
   "cell_type": "markdown",
   "metadata": {},
   "source": [
    "# Lecture 3: Introduction to Probability Theory (Part I)"
   ]
  },
  {
   "cell_type": "markdown",
   "metadata": {},
   "source": [
    "## Objectives\n",
    "\n",
    "+ To understand the interprtation of probability theory as a representation of our state of knowledge.\n",
    "+ To learn about the common sense assumptions that give rise to the basic probability rules.\n",
    "+ To gain experience with the basic probability rules."
   ]
  },
  {
   "cell_type": "markdown",
   "metadata": {},
   "source": [
    "## Readings\n",
    "\n",
    "+ These notes.\n",
    "+ [How random is a coin toss, Persi Diaconis, Video by Numberphile](https://youtu.be/AYnJv68T3MM).\n",
    "+ [Should you catch a tossed coin?, Persi Diaconis, Video by Numberphile](https://youtu.be/Obg7JPd6cmw).\n",
    "+ [Chapters 1 and 2, Probability Theory: The Logic of Science, E. T. Jaynes](https://bayes.wustl.edu/etj/prob/book.pdf)."
   ]
  },
  {
   "cell_type": "code",
   "execution_count": 1,
   "metadata": {},
   "outputs": [],
   "source": [
    "%matplotlib inline\n",
    "import matplotlib.pyplot as plt\n",
    "import seaborn as sns\n",
    "sns.set_context('talk')\n",
    "import numpy as np"
   ]
  },
  {
   "cell_type": "markdown",
   "metadata": {},
   "source": [
    "## Probability as a representation of our state of knowledge\n",
    "\n",
    "Let's call $I$ all the *information* you have a this given moment.\n",
    "And I am talking about absolutely everything: what your parents taught you, what you learned in school, what you learned in college, what your eyes see right now on some scientific instruments.\n",
    "Now consider a, well-defined, sentence $A$ that says something about the world.\n",
    "For example, $A$ could be \"The result of the next coin toss John performs will be heads.\"\n",
    "Or anything really.\n",
    "We want a technical machinery that can turn all the information $I$ we have into a real number that tells us how plausible it is that $A$ is true.\n",
    "This is what probability theory does.\n",
    "It gives us such a number.\n",
    "Call it $p(A|I)$ and read it as \"the probability that $A$ is true given that we know $I$.\"\n",
    "So, probability theory is an attempt to represent our state of knowledge about the world."
   ]
  },
  {
   "cell_type": "markdown",
   "metadata": {},
   "source": [
    "## But what about frequencies?\n",
    "\n",
    "In introductory courses to probability or statistics, we usually learn that the probability of an event is the frequency with each it occurs in nature.\n",
    "This is absolutely fine if the event is something that indeed occurs repeatedly.\n",
    "However, this intrepretation is quite restrictive.\n",
    "In particular, what can we say about an event that can happen only once?\n",
    "This interpretation forbids the quantification of epistemic uncertainties.\n",
    "We will expand the interpretation of probability.\n",
    "It can be shown, see E. T. Jaynes book for the proof, that this interpretation is compatible with the frequency interpretation.\n",
    "That is, when events occur repeatedly then the probabilities do become frequencies."
   ]
  },
  {
   "cell_type": "markdown",
   "metadata": {},
   "source": [
    "## Example: Coin tossing\n",
    "\n",
    "Let's consider the classic coin tossing example.\n",
    "\n",
    "![Coin flipping](coin_flipping.png)\n",
    "\n",
    "The typical interpretation is:\n",
    "\n",
    "> The probability of heads = the observed frequency of getting heads in repeated random experiments\n",
    "\n",
    "But in what sense is tossing a coin a truly random process?\n",
    "As we will show below, it is not at all random.\n",
    "Newton's laws govern exactly what happens to the coin.\n",
    "The problem is that we do not know the initial conditions of the coin.\n",
    "This is a classic example of epistemic uncertainty misrepresented as aleatory uncertainty.\n",
    "Our intrepretation is:\n",
    "\n",
    "> The probability of heads = how sure I am about the outcome of a coin toss experiment given all the information I have at the moment\n",
    "\n"
   ]
  },
  {
   "cell_type": "markdown",
   "metadata": {},
   "source": [
    "Let's look at the physics of an idealized 2D coin.\n",
    "Its dynamics can be described by the initial value problem:\n",
    "$$\n",
    "\\begin{array}{ccc}\n",
    "\\ddot{y} &=& -g,\\\\\n",
    "\\ddot{\\theta} &=& 0,\\\\\n",
    "y(0) &=& 0,\\\\\n",
    "\\theta(0) &=& 0,\\\\\n",
    "\\dot{y}(0) &=& v_0,\\\\\n",
    "\\dot{\\theta}(0) &=& \\omega_0.\n",
    "\\end{array}\n",
    "$$\n",
    "Here we have assumed that the coin is always toss vertically from position, $y(0)=0$, while laying flat, $\\theta(0)=0$, showing heads.\n",
    "$y(t)$ measures the vertical distance from the tossing finger, and $\\theta(t)$ measures the angle of the coin with respect to the horizontal axis.\n",
    "$v_0$ is the initial tossing velocity and $\\omega_0$ is tossing angular velocity.\n",
    "$g$ is the acceleration of gravity.\n",
    "\n",
    "Therefore, the only free parameters that determine the outcome of the coin are $v_0$ and $\\omega_0$."
   ]
  },
  {
   "cell_type": "markdown",
   "metadata": {},
   "source": [
    "It is trivial to solve this initial value problem. The solution is:\n",
    "$$\n",
    "\\begin{split}\n",
    "y(t) &= -\\frac{1}{2}gt^2 + v_0t,\\\\\n",
    "\\theta(t) &= \\omega_0t.\n",
    "\\end{split}\n",
    "$$"
   ]
  },
  {
   "cell_type": "markdown",
   "metadata": {},
   "source": [
    "Using the first equation, we can find the time $t_1$ at which the coin returns to the hand. That time is:\n",
    "$$\n",
    "y(t_1) = 0 \\implies t_1 = \\frac{2v_0}{g}.\n",
    "$$"
   ]
  },
  {
   "cell_type": "markdown",
   "metadata": {},
   "source": [
    "With this result, we can predict the angle the coin makes with the horizontal axis when it returns to the hand. That angle is:\n",
    "$$\n",
    "\\theta(t_1) = \\frac{2v_0\\omega_0}{g}.\n",
    "$$"
   ]
  },
  {
   "cell_type": "markdown",
   "metadata": {},
   "source": [
    "This angle is enough for predicting the outcome of a tossing experiment.\n",
    "Specifically, we will get **heads** if\n",
    "$$\n",
    "\\frac{2v_0\\omega_0}{g} (\\text{mod}\\;2\\pi) \\in \\left(0,\\frac{\\pi}{2}\\right)\\cup\\left(\\frac{3\\pi}{2},2\\pi\\right),\n",
    "$$\n",
    "and **tails** if\n",
    "$$\n",
    "\\frac{2v_0\\omega_0}{g} (\\text{mod}\\;2\\pi) \\in \\left(\\frac{\\pi}{2},\\frac{3\\pi}{2}\\right).\n",
    "$$\n",
    "Note that we have used $\\text{mod}\\;2\\pi$ to find a unique angle between $0$ and $2\\pi$."
   ]
  },
  {
   "cell_type": "markdown",
   "metadata": {},
   "source": [
    "Now let $X\\in\\{H,T\\}$ be a variable describing the result of the coin toss. We have shown that, conditional on knowning $v_0$ and $\\omega_0$ we can predict $X$ exactly. Mathematically, we can write:\n",
    "$$\n",
    "X = \n",
    "\\begin{cases}\n",
    "T,&\\;\\text{if}\\;\\frac{2v_0\\omega_0}{g} (\\text{mod}\\;2\\pi) \\in \\left(\\frac{\\pi}{2},\\frac{3\\pi}{2}\\right),\\\\\n",
    "H,&\\;\\text{otherwise}.\n",
    "\\end{cases}\n",
    "$$\n",
    "Let's draw the corresponding graphical causal model:"
   ]
  },
  {
   "cell_type": "code",
   "execution_count": 2,
   "metadata": {},
   "outputs": [
    {
     "data": {
      "image/svg+xml": "<?xml version=\"1.0\" encoding=\"UTF-8\" standalone=\"no\"?>\n<!DOCTYPE svg PUBLIC \"-//W3C//DTD SVG 1.1//EN\"\n \"http://www.w3.org/Graphics/SVG/1.1/DTD/svg11.dtd\">\n<!-- Generated by graphviz version 2.49.1 (20210923.0004)\n -->\n<!-- Title: coin_toss_g Pages: 1 -->\n<svg width=\"206pt\" height=\"116pt\"\n viewBox=\"0.00 0.00 206.00 116.00\" xmlns=\"http://www.w3.org/2000/svg\" xmlns:xlink=\"http://www.w3.org/1999/xlink\">\n<g id=\"graph0\" class=\"graph\" transform=\"scale(1 1) rotate(0) translate(4 112)\">\n<title>coin_toss_g</title>\n<polygon fill=\"white\" stroke=\"transparent\" points=\"-4,4 -4,-112 202,-112 202,4 -4,4\"/>\n<!-- omega0 -->\n<g id=\"node1\" class=\"node\">\n<title>omega0</title>\n<ellipse fill=\"none\" stroke=\"black\" cx=\"27\" cy=\"-90\" rx=\"27\" ry=\"18\"/>\n<text text-anchor=\"start\" x=\"18.5\" y=\"-87.3\" font-family=\"Times,serif\" font-size=\"14.00\">ω</text>\n<text text-anchor=\"start\" x=\"29.5\" y=\"-87.3\" font-family=\"Times,serif\" baseline-shift=\"sub\" font-size=\"14.00\">0</text>\n</g>\n<!-- X -->\n<g id=\"node4\" class=\"node\">\n<title>X</title>\n<ellipse fill=\"none\" stroke=\"black\" cx=\"99\" cy=\"-18\" rx=\"27\" ry=\"18\"/>\n<text text-anchor=\"middle\" x=\"99\" y=\"-14.3\" font-family=\"Times,serif\" font-size=\"14.00\">X</text>\n</g>\n<!-- omega0&#45;&gt;X -->\n<g id=\"edge3\" class=\"edge\">\n<title>omega0&#45;&gt;X</title>\n<path fill=\"none\" stroke=\"black\" d=\"M41.57,-74.83C51.75,-64.94 65.52,-51.55 77.03,-40.36\"/>\n<polygon fill=\"black\" stroke=\"black\" points=\"79.47,-42.87 84.2,-33.38 74.59,-37.85 79.47,-42.87\"/>\n</g>\n<!-- v0 -->\n<g id=\"node2\" class=\"node\">\n<title>v0</title>\n<ellipse fill=\"none\" stroke=\"black\" cx=\"99\" cy=\"-90\" rx=\"27\" ry=\"18\"/>\n<text text-anchor=\"start\" x=\"92.5\" y=\"-87.3\" font-family=\"Times,serif\" font-size=\"14.00\">v</text>\n<text text-anchor=\"start\" x=\"99.5\" y=\"-87.3\" font-family=\"Times,serif\" baseline-shift=\"sub\" font-size=\"14.00\">0</text>\n</g>\n<!-- v0&#45;&gt;X -->\n<g id=\"edge2\" class=\"edge\">\n<title>v0&#45;&gt;X</title>\n<path fill=\"none\" stroke=\"black\" d=\"M99,-71.7C99,-63.98 99,-54.71 99,-46.11\"/>\n<polygon fill=\"black\" stroke=\"black\" points=\"102.5,-46.1 99,-36.1 95.5,-46.1 102.5,-46.1\"/>\n</g>\n<!-- g -->\n<g id=\"node3\" class=\"node\">\n<title>g</title>\n<ellipse fill=\"lightgrey\" stroke=\"black\" cx=\"171\" cy=\"-90\" rx=\"27\" ry=\"18\"/>\n<text text-anchor=\"middle\" x=\"171\" y=\"-86.3\" font-family=\"Times,serif\" font-size=\"14.00\">g</text>\n</g>\n<!-- g&#45;&gt;X -->\n<g id=\"edge1\" class=\"edge\">\n<title>g&#45;&gt;X</title>\n<path fill=\"none\" stroke=\"black\" d=\"M156.43,-74.83C146.25,-64.94 132.48,-51.55 120.97,-40.36\"/>\n<polygon fill=\"black\" stroke=\"black\" points=\"123.41,-37.85 113.8,-33.38 118.53,-42.87 123.41,-37.85\"/>\n</g>\n</g>\n</svg>\n",
      "text/plain": [
       "<graphviz.graphs.Digraph at 0x10d8c62e0>"
      ]
     },
     "execution_count": 2,
     "metadata": {},
     "output_type": "execute_result"
    }
   ],
   "source": [
    "from graphviz import Digraph\n",
    "gct = Digraph('coin_toss_g')\n",
    "gct.node('omega0', label='<&omega;<sub>0</sub>>')\n",
    "gct.node('v0', label='<v<sub>0</sub>>')\n",
    "gct.node('g', style='filled')\n",
    "gct.node('X')\n",
    "gct.edge('g', 'X')\n",
    "gct.edge('v0', 'X')\n",
    "gct.edge('omega0', 'X')\n",
    "gct.render('coin_toss_g', format='png')\n",
    "gct"
   ]
  },
  {
   "cell_type": "markdown",
   "metadata": {},
   "source": [
    "## Simulation of a coin toss experiment\n",
    "\n",
    "A typical human throws the coin with\n",
    "$$\n",
    "v_0 \\approx 2.5\\;\\text{m/s},\n",
    "$$\n",
    "and\n",
    "$$\n",
    "\\omega_0 \\approx 200\\times 2\\pi\\;\\text{rad/s}.\n",
    "$$\n",
    "Let us simulate how sensitive is the result on the choice of these parameters."
   ]
  },
  {
   "cell_type": "code",
   "execution_count": 3,
   "metadata": {},
   "outputs": [],
   "source": [
    "from scipy.constants import g # acceleration of gravity\n",
    "# Let us code H as 0 and T as 1.\n",
    "def X(v0, omega0):\n",
    "    tmp = (2 * v0 * omega0 / g) % (2. * np.pi) # taking g = 9.8 m/s**2\n",
    "    if tmp > 0.5 * np.pi and tmp < 1.5 * np.pi:\n",
    "        return 'T'\n",
    "    return 'H'"
   ]
  },
  {
   "cell_type": "code",
   "execution_count": 4,
   "metadata": {},
   "outputs": [
    {
     "name": "stdout",
     "output_type": "stream",
     "text": [
      "H\n"
     ]
    }
   ],
   "source": [
    "# Try it out here:\n",
    "v0 = 2.5\n",
    "omega0 = 200 * 2. * np.pi\n",
    "print(X(v0, omega0))"
   ]
  },
  {
   "cell_type": "code",
   "execution_count": 5,
   "metadata": {},
   "outputs": [
    {
     "data": {
      "application/vnd.jupyter.widget-view+json": {
       "model_id": "82db1c5ba81c45999e0359b042ea15d1",
       "version_major": 2,
       "version_minor": 0
      },
      "text/plain": [
       "interactive(children=(FloatSlider(value=2.5, description='v0', max=3.0, min=2.0), FloatSlider(value=3453.31853…"
      ]
     },
     "metadata": {},
     "output_type": "display_data"
    }
   ],
   "source": [
    "# Let's do some interactive tests\n",
    "from ipywidgets import interactive\n",
    "def print_X(v0, omega0):\n",
    "    print(\"X = \", X(v0, omega0))\n",
    "interactive(print_X, v0=(2., 3., 0.1), omega0=(100*2*np.pi, 1000*2*np.pi, 5))"
   ]
  },
  {
   "cell_type": "markdown",
   "metadata": {},
   "source": [
    "### Questions\n",
    "\n",
    "+ Play with the interactive tool above moving $v_0$ and $\\omega_0$ changing the result of the coin toss experiment. To which of the two parameters is the result of the coin toss most sensitive? \n",
    "\n",
    "+ Consider a coin tossing experiment in the moon. Would it be easier or harder to manipulate the result?\n",
    "\n",
    "+ To describe the dynamics of a real 3D coin you need 6 degrees of freedom. You need three degrees of freedom to describe the center of mass, two degrees of freedom to describe a unit vector pointing towards the instantaneous axis of rotation, and one degree of freedom to describe the angle of rotation. Using the Newton-Euler equations you can write down 6D dynamical system. How many arbitrary initial conditions do you have?\n",
    "\n",
    "+ List at least three other \"random\" experiments which are clearly deterministic. You can get inspired by gambling applications.\n",
    "\n",
    "+ Consider the example of a casino roulette. Discuss with your neighbors and report here. How many degrees of freedom do you need to describe its dynamics? What are the initial conditions that you need to know and what can you use to measure them?"
   ]
  },
  {
   "cell_type": "markdown",
   "metadata": {},
   "source": [
    "### Rise of uncertainty\n",
    "\n",
    "As we saw, the outcome of a coin toss experiment is:\n",
    "$$\n",
    "X = \n",
    "\\begin{cases}\n",
    "T,&\\;\\text{if}\\;\\frac{2v_0\\omega_0}{g} (\\text{mod}\\;2\\pi) \\in \\left(\\frac{\\pi}{2},\\frac{3\\pi}{2}\\right),\\\\\n",
    "H,&\\;\\text{otherwise}.\n",
    "\\end{cases}\n",
    "$$\n",
    "Let's think of it as a function of $(v_0,\\omega_0)$.\n",
    "It is obvious that $X$ flips whenever\n",
    "$$\n",
    "\\frac{2v_0\\omega_0}{g} = 2\\pi k + \\frac{\\pi}{2},\n",
    "$$\n",
    "for $k=1,2,\\dots$, as well as whenever\n",
    "$$\n",
    "\\frac{2v_0\\omega_0}{g} = 2\\pi k + \\frac{3\\pi}{2}.\n",
    "$$\n",
    "Let's plot some of these curves in the $v_0-\\omega_0$ plane."
   ]
  },
  {
   "cell_type": "code",
   "execution_count": 6,
   "metadata": {},
   "outputs": [
    {
     "data": {
      "text/plain": [
       "Text(0, 0.5, '$\\\\omega_0$ rad/s')"
      ]
     },
     "execution_count": 6,
     "metadata": {},
     "output_type": "execute_result"
    },
    {
     "data": {
      "image/png": "[encoded data removed]",
      "text/plain": [
       "<Figure size 432x288 with 1 Axes>"
      ]
     },
     "metadata": {
      "needs_background": "light"
     },
     "output_type": "display_data"
    }
   ],
   "source": [
    "fig, ax = plt.subplots()\n",
    "v_0 = np.linspace(0.5, 3., 100)\n",
    "for k in range(1,20):\n",
    "    omega_01 = 9.8 * (2 * np.pi * k + 0.5 * np.pi) / (2 * v_0)\n",
    "    omega_02 = 9.8 * (2 * np.pi * k + 1.5 * np.pi) / (2 * v_0)\n",
    "    ax.plot(v_0, omega_01, 'b', lw=0.5)\n",
    "    ax.plot(v_0, omega_02, 'r', lw=0.5)\n",
    "ax.set_xlabel(r'$v_0$ m/s')\n",
    "ax.set_ylabel(r'$\\omega_0$ rad/s')"
   ]
  },
  {
   "cell_type": "markdown",
   "metadata": {},
   "source": [
    "As we discussed, the uncertainty rises from our inability to perfectly control the initial conditions of the coin toss experiment.\n",
    "Let us suppose that a typical human throws the coin with an initial velocity:\n",
    "$$\n",
    "v_0 = 2.5 \\pm 0.2\\;\\text{m/s},\n",
    "$$\n",
    "and an initial angular velocity of\n",
    "$$\n",
    "\\omega_0 = 400\\pi \\pm 50\\;\\text{rad/s}.\n",
    "$$\n",
    "For the time being let's interpret the $\\pm$ as if it means that all values plus or minus that value are equally likely.\n",
    "\n",
    "Let us now assume that the experiment is repeated 1,000 times and that each time the initial conditions are drawn randomly.\n",
    "Then we are going to count the number of times we get an H.\n",
    "Dividing by the total number of random experiments, we will get the frequency of H's.\n",
    "The code is given below."
   ]
  },
  {
   "cell_type": "code",
   "execution_count": 7,
   "metadata": {},
   "outputs": [],
   "source": [
    "def measure_freq_of_H(v_0_lower=2.3, v_0_upper=2.7, \n",
    "                      omega_0_lower=200*np.pi-100, \n",
    "                      omega_0_upper=200*np.pi+100,\n",
    "                      N=10000):\n",
    "    num_Hs = 0.\n",
    "    for n in range(N):\n",
    "        v_0 = np.random.rand() * (v_0_upper - v_0_lower) + v_0_lower\n",
    "        omega_0 = np.random.rand() * (omega_0_upper - omega_0_lower) + omega_0_lower\n",
    "        num_Hs += 1 if X(v_0, omega_0) == 'H' else 0\n",
    "    return num_Hs / N"
   ]
  },
  {
   "cell_type": "markdown",
   "metadata": {},
   "source": [
    "Let us run this code:"
   ]
  },
  {
   "cell_type": "code",
   "execution_count": 8,
   "metadata": {},
   "outputs": [
    {
     "data": {
      "text/plain": [
       "0.4928"
      ]
     },
     "execution_count": 8,
     "metadata": {},
     "output_type": "execute_result"
    }
   ],
   "source": [
    "measure_freq_of_H()"
   ]
  },
  {
   "cell_type": "markdown",
   "metadata": {},
   "source": [
    "This is our first Monte Carlo simulation. As we will see in a few lectures, the empirical frequency that we measure this way converges to the probability of the coin turning out heads in the limit of $N\\rightarrow\\infty$.\n",
    "This is known as the *law of large numbers*."
   ]
  },
  {
   "cell_type": "markdown",
   "metadata": {},
   "source": [
    "### Questions\n",
    "\n",
    "+ Run ``measure_freq_of_H()`` two or three times. What do you observe?\n",
    "+ If our assumptions about the physics of the coin toss are correct, then the frequency we get from the Monte Carlo should be very close to the probability of getting heads. That should be very close to 0.5. The Stanford statistician Persi Diaconis claims that he is able to get any outcome he likes from a coin toss experiment. In what regime of the initial condition space do you think he operates? Remember that: 1) he needs to be able to control for the outcome; but 2) he also needs to full you that the is throwing the coin regularly."
   ]
  },
  {
   "cell_type": "markdown",
   "metadata": {},
   "source": [
    "## The common sense assumptions that give rise to the basic probability rules.\n",
    "\n",
    "> Probability theory is nothing but common sense reduced to calculation. Pierre-Simon Laplace, Théorie analytique des probabilités (1814)\n",
    "\n",
    "Consider the following three ingedients:\n",
    "+ A: a logical sentence\n",
    "+ B: another logical sentence\n",
    "+ I: all the information we know\n",
    "\n",
    "No other restriction apart that A and B are not contradictions.\n",
    "\n",
    "We need a bit of notation so that we write less math:\n",
    "\n",
    "+ $\\text{not}\\;A \\equiv \\neg A$\n",
    "+ $A\\;\\text{and}\\;B \\equiv A, B \\equiv AB$\n",
    "+ $A\\;\\text{or}\\;B \\equiv A+B$\n",
    "\n",
    "Now, let's try to make a robot that can argue under uncertainty.\n",
    "It should be able to take logical sentences (such as $A$ and $B$ above) and argue about them using all the information it has.\n",
    "What sort of system should govern this robot.\n",
    "The following desiderata seem reasonable:\n",
    "\n",
    "+ Degrees of plausibility are represented by real numbers.\n",
    "+ The system should have a qualitative correspondence to common sense.\n",
    "+ The system should be consistence in the sense that:\n",
    "   - If a conclusion can be reached in two ways, each way must lead to the same result.\n",
    "   - All evidence relevant to a question should be taken into account.\n",
    "   - Equivalent states of knowledge must be represented by equivalent plausibility assignments.\n",
    "   \n",
    "[Cox's theorem](www.sciencedirect.com/science/article/pii/S0888613X03000513?via=ihub) shows that:\n",
    "\n",
    "> The desiderata are enough derive the rules of probability theory."
   ]
  },
  {
   "cell_type": "markdown",
   "metadata": {},
   "source": [
    "### Talking about probabilities\n",
    "\n",
    "We read $p(A|BI)$ as:\n",
    "\n",
    "+ the probability of A being true given that we know that B and I are true; or\n",
    "+ the probability of A being true given that we know that B is true; or\n",
    "+ the probability of A given B."
   ]
  },
  {
   "cell_type": "markdown",
   "metadata": {},
   "source": [
    "### Interpratation of probabilities\n",
    "\n",
    "The probability $p(A|BI)$ is a number between 0 and 1 quantifying the degree of plausibility that A is true given B and I.\n",
    "Specifically:\n",
    "\n",
    "+ $p(A|B,I) = 1$ when we are certain that A is true if B is true (and I).\n",
    "+ $p(A|B,I) = 0$ when we are certain that A is false if B is true (and I).\n",
    "+ $0< p(A|B,I) < 1$ when we are uncertain about A if B is true (and I).\n",
    "+ $p(A|B,I) = \\frac{1}{2}$ when we are completely ignorant about A if B is true (and I)."
   ]
  },
  {
   "cell_type": "markdown",
   "metadata": {},
   "source": [
    "## The rules of probability\n",
    "\n",
    "There are two rules of probability from which everything else can be derived.\n",
    "These are direct consequencies of the desiderate and Cox's theorem.\n",
    "They are:\n",
    "\n",
    "+ The **obvious rule**:\n",
    "$$\n",
    "p(A|I) + p(\\neg A|I) = 1.\n",
    "$$\n",
    "The sum rule is obvious. It states that either $A$ or its negation $\\neg A$ must be true.\n",
    "(It is vitally important that you do not try to apply probability in a system that includes contradictions.)\n",
    "\n",
    "+ The **product rule** (or Bayes' rule or Bayes' theorem):\n",
    "$$\n",
    "p(A,B|I) = p(A|B,I)p(B|I).\n",
    "$$\n",
    "The product rule is not obvious.\n",
    "Understanding it requires a bit of meditation.\n",
    "It states that the probability of A and B is the probability of A given that B is true times the probability that B is true.\n",
    "Even though the correspondance is not one to one, visualizing events using the Venn diagrams helps in understanding the product rule:\n",
    "![Venn diagram](venn.png)\n",
    "In this diagram:\n",
    "    - $p(A,B|I)$ corresponds to the brown area (normalized by the area of I).\n",
    "    - $p(B|I)$ is the area of $B$ (normalized by the area of I).\n",
    "    - $p(A|BI)$ is the brown area (normalized by the area of B)."
   ]
  },
  {
   "cell_type": "markdown",
   "metadata": {},
   "source": [
    "### Example: Drawing balls from a box without replacement (1/3)\n",
    "\n",
    "Consider the following information I:\n",
    "\n",
    "> We are given a box with 10 balls 6 of which are red and 4 of which are blue. The box is sufficiently mixed so that when we get a ball from it, we don't know which one we pick. When we take a ball out of the box, we do not put it back.\n",
    "\n",
    "![Urn](urn.png)\n",
    "\n",
    "Now, let's draw the first ball.\n",
    "Here is the graphical causal model up to this point:"
   ]
  },
  {
   "cell_type": "code",
   "execution_count": 9,
   "metadata": {},
   "outputs": [
    {
     "data": {
      "image/svg+xml": "<?xml version=\"1.0\" encoding=\"UTF-8\" standalone=\"no\"?>\n<!DOCTYPE svg PUBLIC \"-//W3C//DTD SVG 1.1//EN\"\n \"http://www.w3.org/Graphics/SVG/1.1/DTD/svg11.dtd\">\n<!-- Generated by graphviz version 2.49.1 (20210923.0004)\n -->\n<!-- Title: Urn1 Pages: 1 -->\n<svg width=\"228pt\" height=\"116pt\"\n viewBox=\"0.00 0.00 228.39 116.00\" xmlns=\"http://www.w3.org/2000/svg\" xmlns:xlink=\"http://www.w3.org/1999/xlink\">\n<g id=\"graph0\" class=\"graph\" transform=\"scale(1 1) rotate(0) translate(4 112)\">\n<title>Urn1</title>\n<polygon fill=\"white\" stroke=\"transparent\" points=\"-4,4 -4,-112 224.39,-112 224.39,4 -4,4\"/>\n<!-- reds -->\n<g id=\"node1\" class=\"node\">\n<title>reds</title>\n<ellipse fill=\"lightgrey\" stroke=\"black\" cx=\"48.75\" cy=\"-90\" rx=\"48.99\" ry=\"18\"/>\n<text text-anchor=\"middle\" x=\"48.75\" y=\"-86.3\" font-family=\"Times,serif\" font-size=\"14.00\"># red balls</text>\n</g>\n<!-- first -->\n<g id=\"node3\" class=\"node\">\n<title>first</title>\n<ellipse fill=\"none\" stroke=\"black\" cx=\"107.75\" cy=\"-18\" rx=\"41.69\" ry=\"18\"/>\n<text text-anchor=\"middle\" x=\"107.75\" y=\"-14.3\" font-family=\"Times,serif\" font-size=\"14.00\">1st draw</text>\n</g>\n<!-- reds&#45;&gt;first -->\n<g id=\"edge1\" class=\"edge\">\n<title>reds&#45;&gt;first</title>\n<path fill=\"none\" stroke=\"black\" d=\"M62.73,-72.41C70.08,-63.69 79.22,-52.85 87.34,-43.21\"/>\n<polygon fill=\"black\" stroke=\"black\" points=\"90.1,-45.37 93.86,-35.47 84.74,-40.86 90.1,-45.37\"/>\n</g>\n<!-- blues -->\n<g id=\"node2\" class=\"node\">\n<title>blues</title>\n<ellipse fill=\"lightgrey\" stroke=\"black\" cx=\"167.75\" cy=\"-90\" rx=\"52.79\" ry=\"18\"/>\n<text text-anchor=\"middle\" x=\"167.75\" y=\"-86.3\" font-family=\"Times,serif\" font-size=\"14.00\"># blue balls</text>\n</g>\n<!-- blues&#45;&gt;first -->\n<g id=\"edge2\" class=\"edge\">\n<title>blues&#45;&gt;first</title>\n<path fill=\"none\" stroke=\"black\" d=\"M153.53,-72.41C146.05,-63.69 136.76,-52.85 128.5,-43.21\"/>\n<polygon fill=\"black\" stroke=\"black\" points=\"131.03,-40.78 121.86,-35.47 125.71,-45.34 131.03,-40.78\"/>\n</g>\n</g>\n</svg>\n",
      "text/plain": [
       "<graphviz.graphs.Digraph at 0x12baf7eb0>"
      ]
     },
     "execution_count": 9,
     "metadata": {},
     "output_type": "execute_result"
    }
   ],
   "source": [
    "gu1 = Digraph('Urn1')\n",
    "gu1.node('reds', label='# red balls', style='filled')\n",
    "gu1.node('blues', label='# blue balls', style='filled')\n",
    "gu1.node('first', label='1st draw')\n",
    "gu1.edge('reds', 'first')\n",
    "gu1.edge('blues', 'first')\n",
    "gu1.render('urn1_graph', format='png')\n",
    "gu1"
   ]
  },
  {
   "cell_type": "markdown",
   "metadata": {},
   "source": [
    "Now, let's say that we draw the first ball.\n",
    "Let B_1 be the sentence:\n",
    "\n",
    "> The first ball we draw is blue.\n",
    "\n",
    "What is the probability of $B_1$?\n",
    "Our intuition tells us to set:\n",
    "$$\n",
    "p(B_1|I) = \\frac{4}{10} = \\frac{2}{5}.\n",
    "$$\n",
    "This is known as the *principle of insufficient reason*.\n",
    "We can now use the **obvious rule** to find the probability of drawing a red ball, i.e., of $\\neg B_1$.\n",
    "Of course, $\\neg B_1$ is just the sentence:\n",
    "\n",
    "> The first ball we draw is red.\n",
    "\n",
    "So, let's call it also $R_1$.\n",
    "It is:\n",
    "$$\n",
    "p(R_1|I) = p(\\neg B_1|I) = 1 - p(B_1|I) = 1 - \\frac{2}{5} = \\frac{3}{5}.\n",
    "$$"
   ]
  },
  {
   "cell_type": "markdown",
   "metadata": {},
   "source": [
    "Consider the graphical model representation after we observe the first draw?\n",
    "We need to fill the node corresponding to the first draw with color:"
   ]
  },
  {
   "cell_type": "code",
   "execution_count": 10,
   "metadata": {},
   "outputs": [
    {
     "data": {
      "image/svg+xml": "<?xml version=\"1.0\" encoding=\"UTF-8\" standalone=\"no\"?>\n<!DOCTYPE svg PUBLIC \"-//W3C//DTD SVG 1.1//EN\"\n \"http://www.w3.org/Graphics/SVG/1.1/DTD/svg11.dtd\">\n<!-- Generated by graphviz version 2.49.1 (20210923.0004)\n -->\n<!-- Title: Urn3 Pages: 1 -->\n<svg width=\"233pt\" height=\"188pt\"\n viewBox=\"0.00 0.00 233.39 188.00\" xmlns=\"http://www.w3.org/2000/svg\" xmlns:xlink=\"http://www.w3.org/1999/xlink\">\n<g id=\"graph0\" class=\"graph\" transform=\"scale(1 1) rotate(0) translate(4 184)\">\n<title>Urn3</title>\n<polygon fill=\"white\" stroke=\"transparent\" points=\"-4,4 -4,-184 229.39,-184 229.39,4 -4,4\"/>\n<!-- reds -->\n<g id=\"node1\" class=\"node\">\n<title>reds</title>\n<ellipse fill=\"lightgrey\" stroke=\"black\" cx=\"48.75\" cy=\"-162\" rx=\"48.99\" ry=\"18\"/>\n<text text-anchor=\"middle\" x=\"48.75\" y=\"-158.3\" font-family=\"Times,serif\" font-size=\"14.00\"># red balls</text>\n</g>\n<!-- first -->\n<g id=\"node3\" class=\"node\">\n<title>first</title>\n<ellipse fill=\"lightgrey\" stroke=\"black\" cx=\"108.75\" cy=\"-90\" rx=\"41.69\" ry=\"18\"/>\n<text text-anchor=\"middle\" x=\"108.75\" y=\"-86.3\" font-family=\"Times,serif\" font-size=\"14.00\">1st draw</text>\n</g>\n<!-- reds&#45;&gt;first -->\n<g id=\"edge1\" class=\"edge\">\n<title>reds&#45;&gt;first</title>\n<path fill=\"none\" stroke=\"black\" d=\"M62.96,-144.41C70.44,-135.69 79.74,-124.85 88,-115.21\"/>\n<polygon fill=\"black\" stroke=\"black\" points=\"90.78,-117.34 94.63,-107.47 85.46,-112.78 90.78,-117.34\"/>\n</g>\n<!-- second -->\n<g id=\"node4\" class=\"node\">\n<title>second</title>\n<ellipse fill=\"none\" stroke=\"black\" cx=\"108.75\" cy=\"-18\" rx=\"44.69\" ry=\"18\"/>\n<text text-anchor=\"middle\" x=\"108.75\" y=\"-14.3\" font-family=\"Times,serif\" font-size=\"14.00\">2nd draw</text>\n</g>\n<!-- reds&#45;&gt;second -->\n<g id=\"edge4\" class=\"edge\">\n<title>reds&#45;&gt;second</title>\n<path fill=\"none\" stroke=\"black\" d=\"M47.25,-143.73C46.36,-125.14 47.05,-95.11 57.75,-72 63.15,-60.32 72.2,-49.62 81.2,-40.94\"/>\n<polygon fill=\"black\" stroke=\"black\" points=\"83.62,-43.47 88.65,-34.15 78.9,-38.3 83.62,-43.47\"/>\n</g>\n<!-- blues -->\n<g id=\"node2\" class=\"node\">\n<title>blues</title>\n<ellipse fill=\"lightgrey\" stroke=\"black\" cx=\"172.75\" cy=\"-162\" rx=\"52.79\" ry=\"18\"/>\n<text text-anchor=\"middle\" x=\"172.75\" y=\"-158.3\" font-family=\"Times,serif\" font-size=\"14.00\"># blue balls</text>\n</g>\n<!-- blues&#45;&gt;first -->\n<g id=\"edge2\" class=\"edge\">\n<title>blues&#45;&gt;first</title>\n<path fill=\"none\" stroke=\"black\" d=\"M157.58,-144.41C149.41,-135.48 139.2,-124.31 130.23,-114.5\"/>\n<polygon fill=\"black\" stroke=\"black\" points=\"132.69,-112.01 123.36,-106.99 127.53,-116.73 132.69,-112.01\"/>\n</g>\n<!-- blues&#45;&gt;second -->\n<g id=\"edge5\" class=\"edge\">\n<title>blues&#45;&gt;second</title>\n<path fill=\"none\" stroke=\"black\" d=\"M173.28,-143.69C173.18,-125.05 171.01,-95 159.75,-72 154.08,-60.44 144.97,-49.77 136.01,-41.08\"/>\n<polygon fill=\"black\" stroke=\"black\" points=\"138.33,-38.45 128.6,-34.27 133.59,-43.61 138.33,-38.45\"/>\n</g>\n<!-- first&#45;&gt;second -->\n<g id=\"edge3\" class=\"edge\">\n<title>first&#45;&gt;second</title>\n<path fill=\"none\" stroke=\"black\" d=\"M108.75,-71.7C108.75,-63.98 108.75,-54.71 108.75,-46.11\"/>\n<polygon fill=\"black\" stroke=\"black\" points=\"112.25,-46.1 108.75,-36.1 105.25,-46.1 112.25,-46.1\"/>\n</g>\n</g>\n</svg>\n",
      "text/plain": [
       "<graphviz.graphs.Digraph at 0x12bafbd30>"
      ]
     },
     "execution_count": 10,
     "metadata": {},
     "output_type": "execute_result"
    }
   ],
   "source": [
    "gu3 = Digraph('Urn3')\n",
    "gu3.node('reds', label='# red balls', style='filled')\n",
    "gu3.node('blues', label='# blue balls', style='filled')\n",
    "gu3.node('first', label='1st draw', style='filled')\n",
    "gu3.node('second', label='2nd draw')\n",
    "gu3.edge('reds', 'first')\n",
    "gu3.edge('blues', 'first')\n",
    "gu3.edge('first', 'second')\n",
    "gu3.edge('reds', 'second')\n",
    "gu3.edge('blues', 'second')\n",
    "gu3.render('urn3_graph', format='png')\n",
    "gu3"
   ]
  },
  {
   "cell_type": "markdown",
   "metadata": {},
   "source": [
    "Consider the sentence $R_2$:\n",
    "\n",
    "> The second ball we draw is red.\n",
    "\n",
    "What is the probability of $R_2$ given that $B_1$ is true?\n",
    "We just need to use common sense to find this probability:\n",
    "+ We had 10 balls, 6 red and 4 blue.\n",
    "+ Since $B_1$ is true (the first ball was blue), we now have 6 red and 3 blue balls.\n",
    "+ Therefore, the probability that we draw a red ball next is:\n",
    "$$\n",
    "p(R_2|B_1,I) = \\frac{6}{9} = \\frac{2}{3}.\n",
    "$$\n",
    "\n",
    "Similarly, we can find the probability that we draw a red ball in the second draw given that we drew a red ball in the first draw:\n",
    "+ We had 10 balls, 6 red and 4 blue.\n",
    "+ Since $R_1$ is true (the first ball is red), we now have 5 red and 4 blue balls.\n",
    "+ Therefore, the probability that we draw a red ball next is:\n",
    "$$\n",
    "p(R_2|R_1,I) = \\frac{5}{9}.\n",
    "$$"
   ]
  },
  {
   "cell_type": "markdown",
   "metadata": {},
   "source": [
    "Let's consider a second draw without observing the result of the first draw.\n",
    "What is the graphical causal model now?"
   ]
  },
  {
   "cell_type": "code",
   "execution_count": 11,
   "metadata": {},
   "outputs": [
    {
     "data": {
      "image/svg+xml": "<?xml version=\"1.0\" encoding=\"UTF-8\" standalone=\"no\"?>\n<!DOCTYPE svg PUBLIC \"-//W3C//DTD SVG 1.1//EN\"\n \"http://www.w3.org/Graphics/SVG/1.1/DTD/svg11.dtd\">\n<!-- Generated by graphviz version 2.49.1 (20210923.0004)\n -->\n<!-- Title: Urn2 Pages: 1 -->\n<svg width=\"233pt\" height=\"188pt\"\n viewBox=\"0.00 0.00 233.39 188.00\" xmlns=\"http://www.w3.org/2000/svg\" xmlns:xlink=\"http://www.w3.org/1999/xlink\">\n<g id=\"graph0\" class=\"graph\" transform=\"scale(1 1) rotate(0) translate(4 184)\">\n<title>Urn2</title>\n<polygon fill=\"white\" stroke=\"transparent\" points=\"-4,4 -4,-184 229.39,-184 229.39,4 -4,4\"/>\n<!-- reds -->\n<g id=\"node1\" class=\"node\">\n<title>reds</title>\n<ellipse fill=\"lightgrey\" stroke=\"black\" cx=\"48.75\" cy=\"-162\" rx=\"48.99\" ry=\"18\"/>\n<text text-anchor=\"middle\" x=\"48.75\" y=\"-158.3\" font-family=\"Times,serif\" font-size=\"14.00\"># red balls</text>\n</g>\n<!-- first -->\n<g id=\"node3\" class=\"node\">\n<title>first</title>\n<ellipse fill=\"none\" stroke=\"black\" cx=\"108.75\" cy=\"-90\" rx=\"41.69\" ry=\"18\"/>\n<text text-anchor=\"middle\" x=\"108.75\" y=\"-86.3\" font-family=\"Times,serif\" font-size=\"14.00\">1st draw</text>\n</g>\n<!-- reds&#45;&gt;first -->\n<g id=\"edge1\" class=\"edge\">\n<title>reds&#45;&gt;first</title>\n<path fill=\"none\" stroke=\"black\" d=\"M62.96,-144.41C70.44,-135.69 79.74,-124.85 88,-115.21\"/>\n<polygon fill=\"black\" stroke=\"black\" points=\"90.78,-117.34 94.63,-107.47 85.46,-112.78 90.78,-117.34\"/>\n</g>\n<!-- second -->\n<g id=\"node4\" class=\"node\">\n<title>second</title>\n<ellipse fill=\"none\" stroke=\"black\" cx=\"108.75\" cy=\"-18\" rx=\"44.69\" ry=\"18\"/>\n<text text-anchor=\"middle\" x=\"108.75\" y=\"-14.3\" font-family=\"Times,serif\" font-size=\"14.00\">2nd draw</text>\n</g>\n<!-- reds&#45;&gt;second -->\n<g id=\"edge4\" class=\"edge\">\n<title>reds&#45;&gt;second</title>\n<path fill=\"none\" stroke=\"black\" d=\"M47.25,-143.73C46.36,-125.14 47.05,-95.11 57.75,-72 63.15,-60.32 72.2,-49.62 81.2,-40.94\"/>\n<polygon fill=\"black\" stroke=\"black\" points=\"83.62,-43.47 88.65,-34.15 78.9,-38.3 83.62,-43.47\"/>\n</g>\n<!-- blues -->\n<g id=\"node2\" class=\"node\">\n<title>blues</title>\n<ellipse fill=\"lightgrey\" stroke=\"black\" cx=\"172.75\" cy=\"-162\" rx=\"52.79\" ry=\"18\"/>\n<text text-anchor=\"middle\" x=\"172.75\" y=\"-158.3\" font-family=\"Times,serif\" font-size=\"14.00\"># blue balls</text>\n</g>\n<!-- blues&#45;&gt;first -->\n<g id=\"edge2\" class=\"edge\">\n<title>blues&#45;&gt;first</title>\n<path fill=\"none\" stroke=\"black\" d=\"M157.58,-144.41C149.41,-135.48 139.2,-124.31 130.23,-114.5\"/>\n<polygon fill=\"black\" stroke=\"black\" points=\"132.69,-112.01 123.36,-106.99 127.53,-116.73 132.69,-112.01\"/>\n</g>\n<!-- blues&#45;&gt;second -->\n<g id=\"edge5\" class=\"edge\">\n<title>blues&#45;&gt;second</title>\n<path fill=\"none\" stroke=\"black\" d=\"M173.28,-143.69C173.18,-125.05 171.01,-95 159.75,-72 154.08,-60.44 144.97,-49.77 136.01,-41.08\"/>\n<polygon fill=\"black\" stroke=\"black\" points=\"138.33,-38.45 128.6,-34.27 133.59,-43.61 138.33,-38.45\"/>\n</g>\n<!-- first&#45;&gt;second -->\n<g id=\"edge3\" class=\"edge\">\n<title>first&#45;&gt;second</title>\n<path fill=\"none\" stroke=\"black\" d=\"M108.75,-71.7C108.75,-63.98 108.75,-54.71 108.75,-46.11\"/>\n<polygon fill=\"black\" stroke=\"black\" points=\"112.25,-46.1 108.75,-36.1 105.25,-46.1 112.25,-46.1\"/>\n</g>\n</g>\n</svg>\n",
      "text/plain": [
       "<graphviz.graphs.Digraph at 0x12baf7f10>"
      ]
     },
     "execution_count": 11,
     "metadata": {},
     "output_type": "execute_result"
    }
   ],
   "source": [
    "gu2 = Digraph('Urn2')\n",
    "gu2.node('reds', label='# red balls', style='filled')\n",
    "gu2.node('blues', label='# blue balls', style='filled')\n",
    "gu2.node('first', label='1st draw')\n",
    "gu2.node('second', label='2nd draw')\n",
    "gu2.edge('reds', 'first')\n",
    "gu2.edge('blues', 'first')\n",
    "gu2.edge('first', 'second')\n",
    "gu2.edge('reds', 'second')\n",
    "gu2.edge('blues', 'second')\n",
    "gu2.render('urn2_graph', format='png')\n",
    "gu2"
   ]
  },
  {
   "cell_type": "markdown",
   "metadata": {},
   "source": [
    "Let's find the probability that we draw a blue ball in the first draw (A) and a red ball in the second draw (B).\n",
    "We have to use the **product rule**:\n",
    "$$\n",
    "p(B_1, R_2|I) = p(R_2|B_1,I) p(B_1|I) = \\frac{2}{3}\\frac{2}{5} = \\frac{4}{15}.\n",
    "$$"
   ]
  },
  {
   "cell_type": "markdown",
   "metadata": {},
   "source": [
    "### Other rules of probability theory\n",
    "\n",
    "All other rules of probability theory can be derived from the two basic rules.\n",
    "Here are some examples.\n",
    "\n",
    "#### Extention of the obvious rule\n",
    "For any two logical sentences $A$ and $B$ we have:\n",
    "$$\n",
    "p(A + B|I) = p(A|I) + p(B|I) - p(AB|I).\n",
    "$$\n",
    "In words: the probability of A or B is the probability that A is true plus that probability that B is true minus the probability that both A and B are true.\n",
    "This is very easy to understand intuitively by looking at the Venn diagram:\n",
    "![Venn diagram](venn.png)\n",
    "The probability $p(A+B|I)$ is the area of the uninion of A with B (normalized by I).\n",
    "This area is indeed the area of A (normalized by I) plus the area of B (normalized by I) minus the area of A and B (normalized by I) which was doublecounted.\n",
    "\n",
    "Let's see a formal proof of this.\n",
    "$$\n",
    "\\begin{split}\n",
    "p(A+B|I) &= 1 - p(\\neg (A+B)|I) \\\\\n",
    "&= 1 - p(\\neg A, \\neg B|I)\\; \\text{(obvious rule)}\\\\\n",
    "&= 1 - p(\\neg A|\\neg B, I)p(\\neg B|I)\\; \\text{(product rule)}\\\\\n",
    "&= 1 - \\left[1 - p(A|\\neg B, I)\\right]p(\\neg B|I)\\; \\text{(obvious rule)}\\\\\n",
    "&= 1 - p(\\neg B|I) + p(A|\\neg B, I)p(\\neg B|I);\\\\\n",
    "&= 1 - p(\\neg B|I) + p(A\\neg B|I)\\; \\text{(product rule)}\\\\\n",
    "&= 1 - p(\\neg B|I) + p(\\neg B|A,I) p(A|I)\\; \\text{(product rule)}\\\\\n",
    "&= 1 - p(\\neg B|I) + \\left[1 - p(B|A,I)\\right]p(A|I)\\; \\text{(obvious rule)}\\\\\n",
    "&= 1 - p(\\neg B|I) + p(A|I) - p(B|A,I)p(A|I) \\\\\n",
    "&= 1 - \\left[1 - p(B|I)\\right] + p(A|I) - p(B|A,I)p(A|I)\\; \\text{obvious rule})\\\\\n",
    "&= p(A|I) + p(B|I) - p(B|A,I)p(A|I) \\\\\n",
    "&= p(A|I) + p(B|I) - p(AB|I)\\;\\text{(product rule)}.\n",
    "\\end{split}\n",
    "$$"
   ]
  },
  {
   "cell_type": "markdown",
   "metadata": {},
   "source": [
    "### The sum rule\n",
    "\n",
    "This is the final rule we are going to consider in this lecture.\n",
    "It is one of the most important rules.\n",
    "**You absolutely have to memorize it.**\n",
    "It goes as follows.\n",
    "\n",
    "Consider the sequence of logical sentences $B_1,\\dots,B_n$ such that:\n",
    "+ One of them is definitely true:\n",
    "$$\n",
    "p(B_1 + \\dots + B_n|I) = 1.\n",
    "$$\n",
    "+ They are mutually exclusive:\n",
    "$$\n",
    "p(B_iB_j|I) = \\delta_{ij} = \n",
    "\\begin{cases}\n",
    "    1,  &\\;\\text{if}\\;i=j,\\\\ \n",
    "    0,  &\\;\\text{otherwise}.\n",
    "\\end{cases}\n",
    "$$\n",
    "Then, for any logical sentence $A$ we have:\n",
    "$$\n",
    "p(A|I) = \\sum_{i=1}^n p(AB_i|I) = \\sum_{i=1}^n p(A|B_i,I)p(B_i|I).\n",
    "$$\n",
    "\n",
    "Again, this requires a bit of meditation.\n",
    "You take any logical sentence A and set of exclusive but exhaustive possibilities $B_1,\\dots,B_n$ and you break down the probability of $A$ in terms of the probabilities of the $B_i$'s.\n",
    "The Venn diagrams helps to understand the situation:\n",
    "![Venn sum rule](venn_sum_rule.png)\n",
    "\n",
    "The sum rule can be trivially proved by induction using only the obvious rule and the product rule.\n",
    "It is instructive to go through the proof.\n",
    "For $n=2$ we have:\n",
    "$$\n",
    "\\begin{split}\n",
    "p(A|I) &= p(A\\;\\text{and}\\;(B_1\\;\\text{or}\\;B_2)|I)\\\\\n",
    "&= p\\left((A\\;\\text{and}\\;B_1)\\;\\text{or}\\;(A\\;\\text{and}\\;B_2)|I\\right)\\\\\n",
    "&= p(A\\;\\text{and}\\;B_1|I) + p(A\\;\\text{and}\\;B_2|I) - p\\left((A\\;\\text{and}\\;B_1)\\;\\text{or}\\;(A\\;\\text{and}\\;B_2)|I\\right)\\\\\n",
    "&= p(AB_1|I) + p(AB_2|I) - p(AB_1B_2|I)\\\\\n",
    "&= p(AB_1|I) + p(AB_2|I),\n",
    "\\end{split}\n",
    "$$\n",
    "because \n",
    "$$\n",
    "p(AB_1B_2|I) = p(B_1B_2|I)p(A|I) \\le p(B_1B_2|I) = 0.\n",
    "$$\n",
    "And then, assume that it holds for $n$, you can easily show that it also holds for $n+1$ completing the proof."
   ]
  },
  {
   "cell_type": "markdown",
   "metadata": {},
   "source": [
    "### Example: Drawing balls from a box without replacement (2/3)\n",
    "\n",
    "Let us consider the probability of getting a red ball in the second draw without observing in the first draw $p(B_1|I)$.\n",
    "We have two possibilities for the first draw.\n",
    "We either got a blue ball (B_1 is true) or we got a red ball (R_1 is true).\n",
    "In other words $B_1$ and $R_1$ cover all possibilities and are mutually exclusive.\n",
    "We can use the sum rule:\n",
    "$$\n",
    "\\begin{split}\n",
    "p(R_2|I) &= p(R_2|B_1,I)p(B_1|I) + p(R_2|R_1,I)p(R_1|I)\\\\\n",
    "&= \\frac{2}{3}\\frac{2}{5} + \\frac{5}{9}\\frac{3}{5}\\\\\n",
    "&= 0.6.\n",
    "\\end{split}\n",
    "$$\n",
    "\n",
    "Let's verify this using a Monte Carlo experiment."
   ]
  },
  {
   "cell_type": "code",
   "execution_count": 12,
   "metadata": {},
   "outputs": [],
   "source": [
    "def draw_balls_no_replacement(k, num_red, num_blue):\n",
    "    \"\"\"\n",
    "    Draw k balls from an urn without replacement.\n",
    "    \n",
    "    :param k: the number of balls to draw\n",
    "    :param num_red: the number of red balls\n",
    "    :param num_blue: the number of blue balls\n",
    "    :return: a k-element list of 'R' and 'B' depending on the draw.\n",
    "            If k is greater than num_red + num_blue, all the balls are returned.\n",
    "    \"\"\"\n",
    "    balls = ['R'] * num_red + ['B'] * num_blue\n",
    "    np.random.shuffle(balls)\n",
    "    drawn_balls = []\n",
    "    for i in range(k):\n",
    "        # Pick a ball at random\n",
    "        ball_id = np.random.randint(0, len(balls))\n",
    "        ball = balls[ball_id]\n",
    "        # Remove it from the urn\n",
    "        balls = balls[:ball_id] + balls[ball_id+1:]\n",
    "        # Put it in the drawn balls\n",
    "        drawn_balls.append(ball)\n",
    "    return drawn_balls"
   ]
  },
  {
   "cell_type": "code",
   "execution_count": 13,
   "metadata": {},
   "outputs": [
    {
     "data": {
      "text/plain": [
       "['B', 'B', 'B']"
      ]
     },
     "execution_count": 13,
     "metadata": {},
     "output_type": "execute_result"
    }
   ],
   "source": [
    "# You can use it like this:\n",
    "draw_balls_no_replacement(3, 6, 4)"
   ]
  },
  {
   "cell_type": "code",
   "execution_count": 14,
   "metadata": {},
   "outputs": [
    {
     "name": "stdout",
     "output_type": "stream",
     "text": [
      "Probability of red on second draw: 0.60\n"
     ]
    }
   ],
   "source": [
    "# Now let's draw two balls a few thousand times and count how many times we get a red one\n",
    "# in the **second** draw\n",
    "num_samples = 100000\n",
    "running_sum_of_R2 = 0\n",
    "for n in range(num_samples):\n",
    "    balls = draw_balls_no_replacement(2, 6, 4)\n",
    "    if balls[1] == 'R':\n",
    "        running_sum_of_R2 += 1\n",
    "p_R2 = running_sum_of_R2 / num_samples\n",
    "print('Probability of red on second draw: {0:1.2f}'.format(p_R2))"
   ]
  },
  {
   "cell_type": "markdown",
   "metadata": {},
   "source": [
    "which matches exactly the theoretical result."
   ]
  },
  {
   "cell_type": "markdown",
   "metadata": {},
   "source": [
    "### Questions\n",
    "\n",
    "+ What is the probability of a blue ball on the second draw $p(B_2|I)$.\n",
    "Find the theoretical result and then modify the Monte Carlo above to verify it."
   ]
  },
  {
   "cell_type": "markdown",
   "metadata": {},
   "source": [
    "### Example: Drawing balls from a box without replacement (3/3)\n",
    "\n",
    "If you paid close attention, in all our examples the conditioning we did followed the causal links.\n",
    "For instance, in the urn example we where writing $p(R_2|B_1,I)$ for the probability of getting a red ball in the second draw after having observed the blue ball in the first draw.\n",
    "This is the uncertainty propagation problem.\n",
    "However, conditioning on stuff **does not have to follow the causal links**.\n",
    "It is completely legitimate to ask what is the probability of a blue ball in the first draw given that you have observed that the result of the second draw is a red ball.\n",
    "The situation is visualized in the following graph:"
   ]
  },
  {
   "cell_type": "code",
   "execution_count": 15,
   "metadata": {},
   "outputs": [
    {
     "data": {
      "image/svg+xml": "<?xml version=\"1.0\" encoding=\"UTF-8\" standalone=\"no\"?>\n<!DOCTYPE svg PUBLIC \"-//W3C//DTD SVG 1.1//EN\"\n \"http://www.w3.org/Graphics/SVG/1.1/DTD/svg11.dtd\">\n<!-- Generated by graphviz version 2.49.1 (20210923.0004)\n -->\n<!-- Title: Urn4 Pages: 1 -->\n<svg width=\"233pt\" height=\"188pt\"\n viewBox=\"0.00 0.00 233.39 188.00\" xmlns=\"http://www.w3.org/2000/svg\" xmlns:xlink=\"http://www.w3.org/1999/xlink\">\n<g id=\"graph0\" class=\"graph\" transform=\"scale(1 1) rotate(0) translate(4 184)\">\n<title>Urn4</title>\n<polygon fill=\"white\" stroke=\"transparent\" points=\"-4,4 -4,-184 229.39,-184 229.39,4 -4,4\"/>\n<!-- reds -->\n<g id=\"node1\" class=\"node\">\n<title>reds</title>\n<ellipse fill=\"lightgrey\" stroke=\"black\" cx=\"48.75\" cy=\"-162\" rx=\"48.99\" ry=\"18\"/>\n<text text-anchor=\"middle\" x=\"48.75\" y=\"-158.3\" font-family=\"Times,serif\" font-size=\"14.00\"># red balls</text>\n</g>\n<!-- first -->\n<g id=\"node3\" class=\"node\">\n<title>first</title>\n<ellipse fill=\"none\" stroke=\"black\" cx=\"108.75\" cy=\"-90\" rx=\"41.69\" ry=\"18\"/>\n<text text-anchor=\"middle\" x=\"108.75\" y=\"-86.3\" font-family=\"Times,serif\" font-size=\"14.00\">1st draw</text>\n</g>\n<!-- reds&#45;&gt;first -->\n<g id=\"edge1\" class=\"edge\">\n<title>reds&#45;&gt;first</title>\n<path fill=\"none\" stroke=\"black\" d=\"M62.96,-144.41C70.44,-135.69 79.74,-124.85 88,-115.21\"/>\n<polygon fill=\"black\" stroke=\"black\" points=\"90.78,-117.34 94.63,-107.47 85.46,-112.78 90.78,-117.34\"/>\n</g>\n<!-- second -->\n<g id=\"node4\" class=\"node\">\n<title>second</title>\n<ellipse fill=\"lightgrey\" stroke=\"black\" cx=\"108.75\" cy=\"-18\" rx=\"44.69\" ry=\"18\"/>\n<text text-anchor=\"middle\" x=\"108.75\" y=\"-14.3\" font-family=\"Times,serif\" font-size=\"14.00\">2nd draw</text>\n</g>\n<!-- reds&#45;&gt;second -->\n<g id=\"edge4\" class=\"edge\">\n<title>reds&#45;&gt;second</title>\n<path fill=\"none\" stroke=\"black\" d=\"M47.25,-143.73C46.36,-125.14 47.05,-95.11 57.75,-72 63.15,-60.32 72.2,-49.62 81.2,-40.94\"/>\n<polygon fill=\"black\" stroke=\"black\" points=\"83.62,-43.47 88.65,-34.15 78.9,-38.3 83.62,-43.47\"/>\n</g>\n<!-- blues -->\n<g id=\"node2\" class=\"node\">\n<title>blues</title>\n<ellipse fill=\"lightgrey\" stroke=\"black\" cx=\"172.75\" cy=\"-162\" rx=\"52.79\" ry=\"18\"/>\n<text text-anchor=\"middle\" x=\"172.75\" y=\"-158.3\" font-family=\"Times,serif\" font-size=\"14.00\"># blue balls</text>\n</g>\n<!-- blues&#45;&gt;first -->\n<g id=\"edge2\" class=\"edge\">\n<title>blues&#45;&gt;first</title>\n<path fill=\"none\" stroke=\"black\" d=\"M157.58,-144.41C149.41,-135.48 139.2,-124.31 130.23,-114.5\"/>\n<polygon fill=\"black\" stroke=\"black\" points=\"132.69,-112.01 123.36,-106.99 127.53,-116.73 132.69,-112.01\"/>\n</g>\n<!-- blues&#45;&gt;second -->\n<g id=\"edge5\" class=\"edge\">\n<title>blues&#45;&gt;second</title>\n<path fill=\"none\" stroke=\"black\" d=\"M173.28,-143.69C173.18,-125.05 171.01,-95 159.75,-72 154.08,-60.44 144.97,-49.77 136.01,-41.08\"/>\n<polygon fill=\"black\" stroke=\"black\" points=\"138.33,-38.45 128.6,-34.27 133.59,-43.61 138.33,-38.45\"/>\n</g>\n<!-- first&#45;&gt;second -->\n<g id=\"edge3\" class=\"edge\">\n<title>first&#45;&gt;second</title>\n<path fill=\"none\" stroke=\"black\" d=\"M108.75,-71.7C108.75,-63.98 108.75,-54.71 108.75,-46.11\"/>\n<polygon fill=\"black\" stroke=\"black\" points=\"112.25,-46.1 108.75,-36.1 105.25,-46.1 112.25,-46.1\"/>\n</g>\n</g>\n</svg>\n",
      "text/plain": [
       "<graphviz.graphs.Digraph at 0x12bafbbb0>"
      ]
     },
     "execution_count": 15,
     "metadata": {},
     "output_type": "execute_result"
    }
   ],
   "source": [
    "gu4 = Digraph('Urn4')\n",
    "gu4.node('reds', label='# red balls', style='filled')\n",
    "gu4.node('blues', label='# blue balls', style='filled')\n",
    "gu4.node('first', label='1st draw')\n",
    "gu4.node('second', label='2nd draw', style='filled')\n",
    "gu4.edge('reds', 'first')\n",
    "gu4.edge('blues', 'first')\n",
    "gu4.edge('first', 'second')\n",
    "gu4.edge('reds', 'second')\n",
    "gu4.edge('blues', 'second')\n",
    "gu4.render('urn4_graph', format='png')\n",
    "gu4"
   ]
  },
  {
   "cell_type": "markdown",
   "metadata": {},
   "source": [
    "That is, you can write down the mathematical expression $p(B_1|R_2,I)$.\n",
    "This does not mean that $R_2$ is causing $B_1$.\n",
    "What happens here is that observing $R_2$ changes your state of knowledge about $B_1$.\n",
    "This is an example of information flowing in the reverse order of a causal link and a quintessential example of the inverse problem.\n",
    "Let's solve it analytically:\n",
    "$$\n",
    "\\begin{split}\n",
    "p(B_1|R_2,I) &=& \\frac{p(B_1,R_2|I)}{p(R_2|I)}\\\\\n",
    "&=& \\frac{\\frac{4}{15}}{0.6}\\\\\n",
    "&\\approx& 0.44.\n",
    "\\end{split}\n",
    "$$\n",
    "This is greater than the probability of drawing a blue ball in the first place, $p(B_1|I) = 0.4$.\n",
    "Does this make sense?\n",
    "Yes it does!\n",
    "Here is how you should think:\n",
    "+ You draw a ball without seeing it and you put in a box.\n",
    "+ You draw the second ball and you see that it is a red one.\n",
    "+ This means that this particular red ball was not picked in the first draw.\n",
    "+ So, it is as if in the first draw you had one less red to worry about which increases the probability of a blue.\n",
    "+ So, it is as if you had 5 red balls and 4 blue balls giving you a probability of blue $\\frac{4}{9}\\approx 0.44$.\n",
    "\n",
    "This is amazing!\n",
    "It agrees perfectly with the prediction of the product rule.\n",
    "This was one of our desiderata (if you compute something in two different ways you should get the same result).\n",
    "You can rest assured that as soon as you use the product rule and the sum rule and logic, it is impossible to get the wrong answer.\n",
    "That is, if you can actually carry out the computations.\n",
    "\n",
    "Let's also verify the result with a Monte Carlo simulation:"
   ]
  },
  {
   "cell_type": "code",
   "execution_count": 16,
   "metadata": {},
   "outputs": [
    {
     "name": "stdout",
     "output_type": "stream",
     "text": [
      "Probability of blue on first draw: 0.444\n"
     ]
    }
   ],
   "source": [
    "num_samples = 100000\n",
    "running_sum_of_R2 = 0\n",
    "running_sum_of_B1_given_R2 = 0\n",
    "for n in range(num_samples):\n",
    "    balls = draw_balls_no_replacement(2, 6, 4)\n",
    "    if balls[1] == 'R':\n",
    "        running_sum_of_R2 += 1\n",
    "        if balls[0] == 'B':\n",
    "            running_sum_of_B1_given_R2 += 1\n",
    "p_B1_given_R2 = running_sum_of_B1_given_R2 / running_sum_of_R2\n",
    "print('Probability of blue on first draw: {0:1.3f}'.format(p_B1_given_R2))"
   ]
  },
  {
   "cell_type": "markdown",
   "metadata": {},
   "source": [
    "### Questions\n",
    "\n",
    "+ Work out theoretically $p(R_1|B_2,I)$.\n",
    "+ Verify your result by modifying the Monte Carlo procedure above."
   ]
  }
 ],
 "metadata": {
  "anaconda-cloud": {},
  "kernelspec": {
   "display_name": "Python 3",
   "language": "python",
   "name": "python3"
  },
  "language_info": {
   "codemirror_mode": {
    "name": "ipython",
    "version": 3
   },
   "file_extension": ".py",
   "mimetype": "text/x-python",
   "name": "python",
   "nbconvert_exporter": "python",
   "pygments_lexer": "ipython3",
   "version": "3.9.7"
  },
  "latex_envs": {
   "bibliofile": "biblio.bib",
   "cite_by": "apalike",
   "current_citInitial": 1,
   "eqLabelWithNumbers": true,
   "eqNumInitial": 0
  },
  "widgets": {
   "state": {
    "968a18c908c6495081a9936faebe0473": {
     "views": [
      {
       "cell_index": 11
      }
     ]
    }
   },
   "version": "1.2.0"
  }
 },
 "nbformat": 4,
 "nbformat_minor": 2
}
